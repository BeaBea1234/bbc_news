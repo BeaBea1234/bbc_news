{
  "nbformat": 4,
  "nbformat_minor": 0,
  "metadata": {
    "colab": {
      "name": "bbc_bert_farm.ipynb",
      "provenance": []
    },
    "kernelspec": {
      "name": "python3",
      "display_name": "Python 3"
    },
    "accelerator": "GPU"
  },
  "cells": [
    {
      "cell_type": "markdown",
      "metadata": {
        "id": "HSsOUMsd7zdL",
        "colab_type": "text"
      },
      "source": [
        "# BBC Article Genre Classification with BERT using the FARM Framework"
      ]
    },
    {
      "cell_type": "markdown",
      "metadata": {
        "id": "-YL8miY87u-h",
        "colab_type": "text"
      },
      "source": [
        "## Setup"
      ]
    },
    {
      "cell_type": "code",
      "metadata": {
        "id": "qJCtjihD39AK",
        "colab_type": "code",
        "colab": {}
      },
      "source": [
        "!pip install farm==0.4.3"
      ],
      "execution_count": 0,
      "outputs": []
    },
    {
      "cell_type": "code",
      "metadata": {
        "id": "syvMLND-fRwv",
        "colab_type": "code",
        "colab": {}
      },
      "source": [
        "!git clone https://github.com/guggio/bbc_news"
      ],
      "execution_count": 0,
      "outputs": []
    },
    {
      "cell_type": "code",
      "metadata": {
        "id": "Rzn0HgTUh5nS",
        "colab_type": "code",
        "colab": {}
      },
      "source": [
        "from farm.data_handler.data_silo import DataSilo\n",
        "from farm.data_handler.processor import TextClassificationProcessor\n",
        "from farm.modeling.optimization import initialize_optimizer\n",
        "from farm.infer import Inferencer\n",
        "from farm.modeling.adaptive_model import AdaptiveModel\n",
        "from farm.modeling.language_model import LanguageModel\n",
        "from farm.modeling.prediction_head import MultiLabelTextClassificationHead\n",
        "from farm.modeling.tokenization import Tokenizer\n",
        "from farm.train import Trainer\n",
        "from farm.utils import set_all_seeds, MLFlowLogger, initialize_device_settings\n",
        "import logging\n",
        "import pandas as pd"
      ],
      "execution_count": 0,
      "outputs": []
    },
    {
      "cell_type": "code",
      "metadata": {
        "id": "l5WYnZKBrTZB",
        "colab_type": "code",
        "colab": {}
      },
      "source": [
        "# Farm allows simple logging of many parameters & metrics. Let's use the MLflow framework to track our experiment ...\n",
        "# You will see your results on https://public-mlflow.deepset.ai/\n",
        "\n",
        "ml_logger = MLFlowLogger(tracking_uri=\"https://public-mlflow.deepset.ai/\")\n",
        "ml_logger.init_experiment(experiment_name=\"BBC_Articles\", run_name=\"BBC News Articles\")"
      ],
      "execution_count": 0,
      "outputs": []
    },
    {
      "cell_type": "code",
      "metadata": {
        "id": "Iqw3U4sQhysv",
        "colab_type": "code",
        "colab": {}
      },
      "source": [
        "set_all_seeds(seed=42)\n",
        "device, n_gpu = initialize_device_settings(use_cuda=True)\n",
        "n_epochs = 2\n",
        "batch_size = 8\n",
        "evaluate_every = 100"
      ],
      "execution_count": 0,
      "outputs": []
    },
    {
      "cell_type": "markdown",
      "metadata": {
        "id": "rPBEbzqi8Fe-",
        "colab_type": "text"
      },
      "source": [
        "## Building own blocks"
      ]
    },
    {
      "cell_type": "markdown",
      "metadata": {
        "id": "3fcaYbBYh_dv",
        "colab_type": "text"
      },
      "source": [
        "### Tokenizer"
      ]
    },
    {
      "cell_type": "code",
      "metadata": {
        "id": "aZHgiGiGiBup",
        "colab_type": "code",
        "colab": {}
      },
      "source": [
        "lang_model = \"bert-base-cased\"\n",
        "do_lower_case = False\n",
        "\n",
        "tokenizer = Tokenizer.load(\n",
        "    pretrained_model_name_or_path=lang_model,\n",
        "    do_lower_case=do_lower_case)"
      ],
      "execution_count": 0,
      "outputs": []
    },
    {
      "cell_type": "markdown",
      "metadata": {
        "id": "rU3jLTR6iXfG",
        "colab_type": "text"
      },
      "source": [
        "### Data Processor"
      ]
    },
    {
      "cell_type": "code",
      "metadata": {
        "id": "3sChJb0tit8O",
        "colab_type": "code",
        "colab": {}
      },
      "source": [
        "label_list = ['entertainment', 'sport', 'politics', 'business', 'tech'] #labels in our data set\n",
        "metric = \"f1_macro\" # desired metric for evaluation\n",
        "\n",
        "processor = TextClassificationProcessor(tokenizer=tokenizer,\n",
        "                                            max_seq_len=512, # BERT can only handle sequence lengths of up to 512\n",
        "                                            data_dir='bbc_news/generated_data', \n",
        "                                            label_list=label_list,\n",
        "                                            label_column_name=\"genre\", # our labels are located in the \"genre\" column\n",
        "                                            metric=metric,\n",
        "                                            quote_char='\"',\n",
        "                                            multilabel=True,\n",
        "                                            train_filename=\"train.tsv\",\n",
        "                                            dev_filename=None,\n",
        "                                            test_filename=\"test.tsv\",\n",
        "                                            dev_split=0.1 # this will extract 10% of the train set to create a dev set\n",
        "                                            )"
      ],
      "execution_count": 0,
      "outputs": []
    },
    {
      "cell_type": "code",
      "metadata": {
        "id": "qgeFkaddi5P3",
        "colab_type": "code",
        "colab": {}
      },
      "source": [
        "data_silo = DataSilo(\n",
        "    processor=processor,\n",
        "    batch_size=batch_size)"
      ],
      "execution_count": 0,
      "outputs": []
    },
    {
      "cell_type": "markdown",
      "metadata": {
        "id": "QEcTHpEvjRjx",
        "colab_type": "text"
      },
      "source": [
        "### Modeling"
      ]
    },
    {
      "cell_type": "code",
      "metadata": {
        "id": "NiW91rS8jY-q",
        "colab_type": "code",
        "colab": {}
      },
      "source": [
        "# loading the pretrained BERT base cased model\n",
        "language_model = LanguageModel.load(lang_model)\n",
        "# prediction head for our model that is suited for classifying news article genres\n",
        "prediction_head = MultiLabelTextClassificationHead(num_labels=len(label_list))\n",
        "\n",
        "model = AdaptiveModel(\n",
        "        language_model=language_model,\n",
        "        prediction_heads=[prediction_head],\n",
        "        embeds_dropout_prob=0.1,\n",
        "        lm_output_types=[\"per_sequence\"],\n",
        "        device=device)"
      ],
      "execution_count": 0,
      "outputs": []
    },
    {
      "cell_type": "code",
      "metadata": {
        "id": "Fc2qiRLsjagC",
        "colab_type": "code",
        "colab": {}
      },
      "source": [
        "model, optimizer, lr_schedule = initialize_optimizer(\n",
        "        model=model,\n",
        "        learning_rate=3e-5,\n",
        "        device=device,\n",
        "        n_batches=len(data_silo.loaders[\"train\"]),\n",
        "        n_epochs=n_epochs)"
      ],
      "execution_count": 0,
      "outputs": []
    },
    {
      "cell_type": "markdown",
      "metadata": {
        "id": "M83QIHF7jhd9",
        "colab_type": "text"
      },
      "source": [
        "### Training"
      ]
    },
    {
      "cell_type": "code",
      "metadata": {
        "id": "aMA6XumIjet_",
        "colab_type": "code",
        "colab": {}
      },
      "source": [
        "trainer = Trainer(\n",
        "        model=model,\n",
        "        optimizer=optimizer,\n",
        "        data_silo=data_silo,\n",
        "        epochs=n_epochs,\n",
        "        n_gpu=n_gpu,\n",
        "        lr_schedule=lr_schedule,\n",
        "        evaluate_every=evaluate_every,\n",
        "        device=device)"
      ],
      "execution_count": 0,
      "outputs": []
    },
    {
      "cell_type": "code",
      "metadata": {
        "id": "VIfCG5OhjkYK",
        "colab_type": "code",
        "colab": {}
      },
      "source": [
        "trainer.train()"
      ],
      "execution_count": 0,
      "outputs": []
    },
    {
      "cell_type": "markdown",
      "metadata": {
        "id": "bvGI__LP2Nm1",
        "colab_type": "text"
      },
      "source": [
        "## Saving and Inferencing"
      ]
    },
    {
      "cell_type": "code",
      "metadata": {
        "id": "6dgBoCYy2QhG",
        "colab_type": "code",
        "colab": {}
      },
      "source": [
        "save_dir = \"saved_models/bert-english-news-article\"\n",
        "model.save(save_dir)\n",
        "processor.save(save_dir)"
      ],
      "execution_count": 0,
      "outputs": []
    },
    {
      "cell_type": "code",
      "metadata": {
        "id": "MV9mEdjLfYwm",
        "colab_type": "code",
        "colab": {}
      },
      "source": [
        "# to download the model\n",
        "!zip -r saved_models/model.zip saved_models/bert-english-news-article"
      ],
      "execution_count": 0,
      "outputs": []
    },
    {
      "cell_type": "code",
      "metadata": {
        "id": "G1fZbw2XfqIS",
        "colab_type": "code",
        "colab": {}
      },
      "source": [
        "inferenced_model = Inferencer.load(save_dir)"
      ],
      "execution_count": 0,
      "outputs": []
    },
    {
      "cell_type": "code",
      "metadata": {
        "id": "3wuFlJc3iR_0",
        "colab_type": "code",
        "colab": {}
      },
      "source": [
        "def read_file(file_name: str) -> dict:\n",
        "  text_file = open (file_name, 'r')\n",
        "  text_file = text_file.read().replace('\\n', ' ')\n",
        "  return {'text': text_file}"
      ],
      "execution_count": 0,
      "outputs": []
    },
    {
      "cell_type": "code",
      "metadata": {
        "id": "yFqAaZTAf4Sr",
        "colab_type": "code",
        "colab": {}
      },
      "source": [
        "def create_input(text_files:list) -> list:\n",
        "  model_input = list()\n",
        "  for text_file in text_files:\n",
        "    model_input.append(read_file(text_file['file']))\n",
        "  return model_input"
      ],
      "execution_count": 0,
      "outputs": []
    },
    {
      "cell_type": "code",
      "metadata": {
        "id": "c784qI2olhj5",
        "colab_type": "code",
        "colab": {}
      },
      "source": [
        "def create_result_overview (articles:list, result:list) -> pd.DataFrame:\n",
        "  files = list()\n",
        "  labels = list()\n",
        "  predictions = list()\n",
        "  for i in range(len(articles)):\n",
        "    files.append (articles[i]['file'])\n",
        "    labels.append(articles[i]['genre'])\n",
        "    predictions.append(result[0]['predictions'][i]['label'].strip(\"'[]'\"))\n",
        "  data = {'file': files, 'actual': labels, 'prediction': predictions}\n",
        "  df = pd.DataFrame(data)\n",
        "  return df"
      ],
      "execution_count": 0,
      "outputs": []
    },
    {
      "cell_type": "code",
      "metadata": {
        "id": "Q8WC2-WBk1BW",
        "colab_type": "code",
        "colab": {}
      },
      "source": [
        "articles = [{'file': 'bbc_news/generated_data/inferencing/business.txt', 'genre': 'business'},\n",
        "            {'file': 'bbc_news/generated_data/inferencing/sport.txt', 'genre': 'sport'}]\n",
        "\n",
        "article_texts = create_input(articles)\n",
        "\n",
        "result = inferenced_model.inference_from_dicts(article_texts)\n",
        "\n",
        "df = create_result_overview(articles, result)\n",
        "\n",
        "df.head()"
      ],
      "execution_count": 0,
      "outputs": []
    }
  ]
}